{
 "cells": [
  {
   "cell_type": "markdown",
   "id": "701a27a9",
   "metadata": {},
   "source": [
    "I am going to be prioritising churn datasets which are associated with the telecom industry in this project.\n",
    "The initial step for this project is to set up our database and a table inside that database, from which we are going to be using data from, for our model.\n",
    "However, for this the most important factors need to be identified in relation to churn."
   ]
  },
  {
   "cell_type": "markdown",
   "id": "d09c464d",
   "metadata": {},
   "source": [
    "While scanning different datasets, the most important factors or rather the factors which are likely to impact churn outcome was determined to be relationship status,dependents,tenure,phone service,online security,tech support,Monthly charges and age"
   ]
  },
  {
   "cell_type": "code",
   "execution_count": 13,
   "id": "3ab9b6f8",
   "metadata": {},
   "outputs": [],
   "source": [
    "import pandas as pd\n",
    "import sqlite3\n",
    "\n",
    "\n",
    "\n"
   ]
  },
  {
   "cell_type": "markdown",
   "id": "71be7b88",
   "metadata": {},
   "source": [
    "The process is to ETL(Extract-read the datasets,Transform-Convert to an appropriate format,Load- upload to a centralized sqlite database) the 3 different sources into a predefined sqlite table."
   ]
  },
  {
   "cell_type": "code",
   "execution_count": 24,
   "id": "7465e4cd",
   "metadata": {},
   "outputs": [],
   "source": [
    "dataset1=pd.read_csv(r\"C:\\Users\\kaile\\Project2 files\\Telco_customer_churn.csv\\Telco_customer_churn.csv\")\n",
    "dataset2=pd.read_csv(r\"C:\\Users\\kaile\\Project2 files\\telecom_customer_churn.csv\\telecom_customer_churn.csv\")\n",
    "dataset3=pd.read_csv(r\"C:\\Users\\kaile\\Project2 files\\train.csv\")\n"
   ]
  }
 ],
 "metadata": {
  "kernelspec": {
   "display_name": "base",
   "language": "python",
   "name": "python3"
  },
  "language_info": {
   "codemirror_mode": {
    "name": "ipython",
    "version": 3
   },
   "file_extension": ".py",
   "mimetype": "text/x-python",
   "name": "python",
   "nbconvert_exporter": "python",
   "pygments_lexer": "ipython3",
   "version": "3.12.7"
  }
 },
 "nbformat": 4,
 "nbformat_minor": 5
}
