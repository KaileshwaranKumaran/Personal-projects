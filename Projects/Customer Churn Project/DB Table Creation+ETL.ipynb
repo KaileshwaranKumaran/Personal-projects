{
 "cells": [
  {
   "cell_type": "markdown",
   "id": "701a27a9",
   "metadata": {},
   "source": [
    "I am going to be prioritising churn datasets which are associated with the telecom industry in this project.\n",
    "The initial step for this project is to set up our database and a table inside that database, from which we are going to be using data from, for our model.\n",
    "However, for this the most important factors need to be identified in relation to churn."
   ]
  },
  {
   "cell_type": "markdown",
   "id": "d09c464d",
   "metadata": {},
   "source": [
    "While scanning different datasets, the most important factors or rather the factors which are likely to impact churn outcome was determined to be relationship status,dependents,tenure,phone service,online security,tech support,Monthly charges and age"
   ]
  },
  {
   "cell_type": "code",
   "execution_count": 32,
   "id": "3ab9b6f8",
   "metadata": {},
   "outputs": [],
   "source": [
    "import pandas as pd\n",
    "import sqlite3\n",
    "import numpy as np\n",
    "\n",
    "\n",
    "\n"
   ]
  },
  {
   "cell_type": "markdown",
   "id": "71be7b88",
   "metadata": {},
   "source": [
    "The process is to ETL(Extract-read the datasets,Transform-Convert to an appropriate format,Load- upload to a centralized sqlite database) the 3 different sources into a predefined sqlite table."
   ]
  },
  {
   "cell_type": "code",
   "execution_count": 33,
   "id": "7465e4cd",
   "metadata": {},
   "outputs": [],
   "source": [
    "dataset1=pd.read_csv(r\"C:\\Users\\kaile\\Project2 files\\Telco_customer_churn.csv\\Telco_customer_churn.csv\")\n",
    "dataset2=pd.read_csv(r\"C:\\Users\\kaile\\Project2 files\\telecom_customer_churn.csv\\telecom_customer_churn.csv\")\n",
    "dataset3=pd.read_csv(r\"C:\\Users\\kaile\\Project2 files\\train.csv\")\n"
   ]
  },
  {
   "cell_type": "markdown",
   "id": "5451c926",
   "metadata": {},
   "source": [
    "Dataset 1"
   ]
  },
  {
   "cell_type": "code",
   "execution_count": 3,
   "id": "7462fc46",
   "metadata": {},
   "outputs": [
    {
     "data": {
      "text/plain": [
       "Index(['CustomerID', 'Count', 'Country', 'State', 'City', 'Zip Code',\n",
       "       'Lat Long', 'Latitude', 'Longitude', 'Gender', 'Senior Citizen',\n",
       "       'Partner', 'Dependents', 'Tenure Months', 'Phone Service',\n",
       "       'Multiple Lines', 'Internet Service', 'Online Security',\n",
       "       'Online Backup', 'Device Protection', 'Tech Support', 'Streaming TV',\n",
       "       'Streaming Movies', 'Contract', 'Paperless Billing', 'Payment Method',\n",
       "       'Monthly Charges', 'Total Charges', 'Churn Label', 'Churn Value',\n",
       "       'Churn Score', 'CLTV', 'Churn Reason'],\n",
       "      dtype='object')"
      ]
     },
     "execution_count": 3,
     "metadata": {},
     "output_type": "execute_result"
    }
   ],
   "source": [
    "dataset1.head(5)\n",
    "dataset1.columns"
   ]
  },
  {
   "cell_type": "code",
   "execution_count": 4,
   "id": "671aa670",
   "metadata": {},
   "outputs": [],
   "source": [
    "dataset1=dataset1[['Partner','Dependents',\"Tenure Months\",\"Phone Service\",\"Online Security\",\"Tech Support\",\"Monthly Charges\",\"Senior Citizen\",\"Churn Label\"]]"
   ]
  },
  {
   "cell_type": "code",
   "execution_count": 5,
   "id": "926466ba",
   "metadata": {},
   "outputs": [],
   "source": [
    "conn = sqlite3.connect(\"customer_churn.db\")\n",
    "cursor=conn.cursor()"
   ]
  },
  {
   "cell_type": "code",
   "execution_count": 6,
   "id": "70adba77",
   "metadata": {},
   "outputs": [
    {
     "data": {
      "text/plain": [
       "<sqlite3.Cursor at 0x1793e3549c0>"
      ]
     },
     "execution_count": 6,
     "metadata": {},
     "output_type": "execute_result"
    }
   ],
   "source": [
    "cursor.execute(\"\"\"\n",
    "CREATE TABLE IF NOT EXISTS customers (\n",
    "    Partner TEXT,\n",
    "    Dependents TEXT,\n",
    "    Tenure_Months INTEGER,\n",
    "    Phone_Service TEXT,\n",
    "    Online_Security TEXT,\n",
    "    Tech_Support TEXT,\n",
    "    Monthly_Charges REAL,\n",
    "    Senior_Citizen TEXT,\n",
    "    Churn TEXT\n",
    ")\n",
    "\"\"\")\n"
   ]
  },
  {
   "cell_type": "markdown",
   "id": "d53dee83",
   "metadata": {},
   "source": [
    "EDA\n"
   ]
  },
  {
   "cell_type": "markdown",
   "id": "c1d57abd",
   "metadata": {},
   "source": [
    "The purpose of this EDA is to transform the datasets into suitable formats for upload. We will not look at the quality of the datasets here."
   ]
  },
  {
   "cell_type": "code",
   "execution_count": 34,
   "id": "7093ca58",
   "metadata": {},
   "outputs": [],
   "source": [
    "dataset1 = dataset1[dataset1[\"Online Security\"].isin(['Yes', 'No']) &\n",
    "                   dataset1[\"Tech Support\"].isin(['Yes', 'No'])]\n"
   ]
  },
  {
   "cell_type": "code",
   "execution_count": 35,
   "id": "fc73a713",
   "metadata": {},
   "outputs": [
    {
     "data": {
      "text/plain": [
       "Index(['Customer ID', 'Gender', 'Age', 'Married', 'Number of Dependents',\n",
       "       'City', 'Zip Code', 'Latitude', 'Longitude', 'Number of Referrals',\n",
       "       'Tenure in Months', 'Offer', 'Phone Service',\n",
       "       'Avg Monthly Long Distance Charges', 'Multiple Lines',\n",
       "       'Internet Service', 'Internet Type', 'Avg Monthly GB Download',\n",
       "       'Online Security', 'Online Backup', 'Device Protection Plan',\n",
       "       'Premium Tech Support', 'Streaming TV', 'Streaming Movies',\n",
       "       'Streaming Music', 'Unlimited Data', 'Contract', 'Paperless Billing',\n",
       "       'Payment Method', 'Monthly Charge', 'Total Charges', 'Total Refunds',\n",
       "       'Total Extra Data Charges', 'Total Long Distance Charges',\n",
       "       'Total Revenue', 'Customer Status', 'Churn Category', 'Churn Reason'],\n",
       "      dtype='object')"
      ]
     },
     "execution_count": 35,
     "metadata": {},
     "output_type": "execute_result"
    }
   ],
   "source": [
    "dataset2.columns"
   ]
  },
  {
   "cell_type": "code",
   "execution_count": 36,
   "id": "f550f659",
   "metadata": {},
   "outputs": [],
   "source": [
    "dataset2=dataset2[['Married',\"Number of Dependents\",\"Tenure in Months\",\"Phone Service\",\"Online Security\",\"Premium Tech Support\",\"Monthly Charge\",\"Age\",\"Churn Category\"]]"
   ]
  },
  {
   "cell_type": "code",
   "execution_count": 37,
   "id": "ad33fb8c",
   "metadata": {},
   "outputs": [
    {
     "data": {
      "text/html": [
       "<div>\n",
       "<style scoped>\n",
       "    .dataframe tbody tr th:only-of-type {\n",
       "        vertical-align: middle;\n",
       "    }\n",
       "\n",
       "    .dataframe tbody tr th {\n",
       "        vertical-align: top;\n",
       "    }\n",
       "\n",
       "    .dataframe thead th {\n",
       "        text-align: right;\n",
       "    }\n",
       "</style>\n",
       "<table border=\"1\" class=\"dataframe\">\n",
       "  <thead>\n",
       "    <tr style=\"text-align: right;\">\n",
       "      <th></th>\n",
       "      <th>Married</th>\n",
       "      <th>Number of Dependents</th>\n",
       "      <th>Tenure in Months</th>\n",
       "      <th>Phone Service</th>\n",
       "      <th>Online Security</th>\n",
       "      <th>Premium Tech Support</th>\n",
       "      <th>Monthly Charge</th>\n",
       "      <th>Age</th>\n",
       "      <th>Churn Category</th>\n",
       "    </tr>\n",
       "  </thead>\n",
       "  <tbody>\n",
       "    <tr>\n",
       "      <th>647</th>\n",
       "      <td>No</td>\n",
       "      <td>0</td>\n",
       "      <td>52</td>\n",
       "      <td>No</td>\n",
       "      <td>No</td>\n",
       "      <td>No</td>\n",
       "      <td>30.10</td>\n",
       "      <td>42</td>\n",
       "      <td>NaN</td>\n",
       "    </tr>\n",
       "    <tr>\n",
       "      <th>102</th>\n",
       "      <td>Yes</td>\n",
       "      <td>3</td>\n",
       "      <td>62</td>\n",
       "      <td>Yes</td>\n",
       "      <td>Yes</td>\n",
       "      <td>Yes</td>\n",
       "      <td>108.15</td>\n",
       "      <td>42</td>\n",
       "      <td>NaN</td>\n",
       "    </tr>\n",
       "    <tr>\n",
       "      <th>6473</th>\n",
       "      <td>Yes</td>\n",
       "      <td>0</td>\n",
       "      <td>44</td>\n",
       "      <td>Yes</td>\n",
       "      <td>No</td>\n",
       "      <td>Yes</td>\n",
       "      <td>104.15</td>\n",
       "      <td>75</td>\n",
       "      <td>NaN</td>\n",
       "    </tr>\n",
       "    <tr>\n",
       "      <th>2621</th>\n",
       "      <td>Yes</td>\n",
       "      <td>0</td>\n",
       "      <td>6</td>\n",
       "      <td>Yes</td>\n",
       "      <td>No</td>\n",
       "      <td>No</td>\n",
       "      <td>82.85</td>\n",
       "      <td>34</td>\n",
       "      <td>Competitor</td>\n",
       "    </tr>\n",
       "    <tr>\n",
       "      <th>3615</th>\n",
       "      <td>No</td>\n",
       "      <td>0</td>\n",
       "      <td>25</td>\n",
       "      <td>Yes</td>\n",
       "      <td>Yes</td>\n",
       "      <td>Yes</td>\n",
       "      <td>105.50</td>\n",
       "      <td>27</td>\n",
       "      <td>NaN</td>\n",
       "    </tr>\n",
       "  </tbody>\n",
       "</table>\n",
       "</div>"
      ],
      "text/plain": [
       "     Married  Number of Dependents  Tenure in Months Phone Service  \\\n",
       "647       No                     0                52            No   \n",
       "102      Yes                     3                62           Yes   \n",
       "6473     Yes                     0                44           Yes   \n",
       "2621     Yes                     0                 6           Yes   \n",
       "3615      No                     0                25           Yes   \n",
       "\n",
       "     Online Security Premium Tech Support  Monthly Charge  Age Churn Category  \n",
       "647               No                   No           30.10   42            NaN  \n",
       "102              Yes                  Yes          108.15   42            NaN  \n",
       "6473              No                  Yes          104.15   75            NaN  \n",
       "2621              No                   No           82.85   34     Competitor  \n",
       "3615             Yes                  Yes          105.50   27            NaN  "
      ]
     },
     "execution_count": 37,
     "metadata": {},
     "output_type": "execute_result"
    }
   ],
   "source": [
    "dataset2.sample(5)"
   ]
  },
  {
   "cell_type": "code",
   "execution_count": 38,
   "id": "7365a876",
   "metadata": {},
   "outputs": [],
   "source": [
    "dataset2 = dataset2[dataset2[\"Online Security\"].isin(['Yes', 'No']) &\n",
    "                   dataset2[\"Premium Tech Support\"].isin(['Yes', 'No'])]\n",
    "\n"
   ]
  },
  {
   "cell_type": "code",
   "execution_count": 39,
   "id": "a10efd2e",
   "metadata": {},
   "outputs": [],
   "source": [
    "dataset2[\"Senior Citizen\"]=np.where(dataset2['Age']>65,'Yes','No')\n",
    "dataset2[\"Churn\"]=np.where(dataset2[\"Churn Category\"].isna(),'No','Yes')\n",
    "dataset2[\"Dependents\"]=np.where(dataset2[\"Number of Dependents\"]>0,'Yes','No')"
   ]
  },
  {
   "cell_type": "code",
   "execution_count": 40,
   "id": "a5571066",
   "metadata": {},
   "outputs": [
    {
     "data": {
      "text/html": [
       "<div>\n",
       "<style scoped>\n",
       "    .dataframe tbody tr th:only-of-type {\n",
       "        vertical-align: middle;\n",
       "    }\n",
       "\n",
       "    .dataframe tbody tr th {\n",
       "        vertical-align: top;\n",
       "    }\n",
       "\n",
       "    .dataframe thead th {\n",
       "        text-align: right;\n",
       "    }\n",
       "</style>\n",
       "<table border=\"1\" class=\"dataframe\">\n",
       "  <thead>\n",
       "    <tr style=\"text-align: right;\">\n",
       "      <th></th>\n",
       "      <th>Married</th>\n",
       "      <th>Dependents</th>\n",
       "      <th>Tenure in Months</th>\n",
       "      <th>Phone Service</th>\n",
       "      <th>Online Security</th>\n",
       "      <th>Premium Tech Support</th>\n",
       "      <th>Monthly Charge</th>\n",
       "      <th>Senior Citizen</th>\n",
       "      <th>Churn</th>\n",
       "    </tr>\n",
       "  </thead>\n",
       "  <tbody>\n",
       "    <tr>\n",
       "      <th>6861</th>\n",
       "      <td>Yes</td>\n",
       "      <td>Yes</td>\n",
       "      <td>52</td>\n",
       "      <td>No</td>\n",
       "      <td>Yes</td>\n",
       "      <td>No</td>\n",
       "      <td>-3.00</td>\n",
       "      <td>No</td>\n",
       "      <td>No</td>\n",
       "    </tr>\n",
       "    <tr>\n",
       "      <th>5067</th>\n",
       "      <td>No</td>\n",
       "      <td>No</td>\n",
       "      <td>46</td>\n",
       "      <td>Yes</td>\n",
       "      <td>No</td>\n",
       "      <td>No</td>\n",
       "      <td>72.80</td>\n",
       "      <td>No</td>\n",
       "      <td>No</td>\n",
       "    </tr>\n",
       "    <tr>\n",
       "      <th>2142</th>\n",
       "      <td>Yes</td>\n",
       "      <td>Yes</td>\n",
       "      <td>3</td>\n",
       "      <td>Yes</td>\n",
       "      <td>Yes</td>\n",
       "      <td>No</td>\n",
       "      <td>89.85</td>\n",
       "      <td>No</td>\n",
       "      <td>No</td>\n",
       "    </tr>\n",
       "    <tr>\n",
       "      <th>4733</th>\n",
       "      <td>No</td>\n",
       "      <td>No</td>\n",
       "      <td>56</td>\n",
       "      <td>Yes</td>\n",
       "      <td>No</td>\n",
       "      <td>Yes</td>\n",
       "      <td>111.95</td>\n",
       "      <td>Yes</td>\n",
       "      <td>Yes</td>\n",
       "    </tr>\n",
       "    <tr>\n",
       "      <th>2012</th>\n",
       "      <td>Yes</td>\n",
       "      <td>Yes</td>\n",
       "      <td>1</td>\n",
       "      <td>Yes</td>\n",
       "      <td>No</td>\n",
       "      <td>No</td>\n",
       "      <td>44.55</td>\n",
       "      <td>No</td>\n",
       "      <td>No</td>\n",
       "    </tr>\n",
       "  </tbody>\n",
       "</table>\n",
       "</div>"
      ],
      "text/plain": [
       "     Married Dependents  Tenure in Months Phone Service Online Security  \\\n",
       "6861     Yes        Yes                52            No             Yes   \n",
       "5067      No         No                46           Yes              No   \n",
       "2142     Yes        Yes                 3           Yes             Yes   \n",
       "4733      No         No                56           Yes              No   \n",
       "2012     Yes        Yes                 1           Yes              No   \n",
       "\n",
       "     Premium Tech Support  Monthly Charge Senior Citizen Churn  \n",
       "6861                   No           -3.00             No    No  \n",
       "5067                   No           72.80             No    No  \n",
       "2142                   No           89.85             No    No  \n",
       "4733                  Yes          111.95            Yes   Yes  \n",
       "2012                   No           44.55             No    No  "
      ]
     },
     "execution_count": 40,
     "metadata": {},
     "output_type": "execute_result"
    }
   ],
   "source": [
    "dataset2=dataset2[['Married',\"Dependents\",\"Tenure in Months\",\"Phone Service\",\"Online Security\",\"Premium Tech Support\",\"Monthly Charge\",\"Senior Citizen\",\"Churn\"]]\n",
    "dataset2.sample(5)"
   ]
  },
  {
   "cell_type": "code",
   "execution_count": 41,
   "id": "d13c6ba2",
   "metadata": {},
   "outputs": [
    {
     "data": {
      "text/plain": [
       "Index(['Age', 'Avg Monthly GB Download', 'Avg Monthly Long Distance Charges',\n",
       "       'Churn Category', 'Churn Reason', 'Churn Score', 'City', 'CLTV',\n",
       "       'Contract', 'Country', 'Customer ID', 'Customer Status', 'Dependents',\n",
       "       'Device Protection Plan', 'Gender', 'Internet Service', 'Internet Type',\n",
       "       'Lat Long', 'Latitude', 'Longitude', 'Married', 'Monthly Charge',\n",
       "       'Multiple Lines', 'Number of Dependents', 'Number of Referrals',\n",
       "       'Offer', 'Online Backup', 'Online Security', 'Paperless Billing',\n",
       "       'Partner', 'Payment Method', 'Phone Service', 'Population',\n",
       "       'Premium Tech Support', 'Quarter', 'Referred a Friend',\n",
       "       'Satisfaction Score', 'Senior Citizen', 'State', 'Streaming Movies',\n",
       "       'Streaming Music', 'Streaming TV', 'Tenure in Months', 'Total Charges',\n",
       "       'Total Extra Data Charges', 'Total Long Distance Charges',\n",
       "       'Total Refunds', 'Total Revenue', 'Under 30', 'Unlimited Data',\n",
       "       'Zip Code', 'Churn'],\n",
       "      dtype='object')"
      ]
     },
     "execution_count": 41,
     "metadata": {},
     "output_type": "execute_result"
    }
   ],
   "source": [
    "dataset3.columns"
   ]
  },
  {
   "cell_type": "code",
   "execution_count": 42,
   "id": "3d31d2d5",
   "metadata": {},
   "outputs": [
    {
     "data": {
      "text/html": [
       "<div>\n",
       "<style scoped>\n",
       "    .dataframe tbody tr th:only-of-type {\n",
       "        vertical-align: middle;\n",
       "    }\n",
       "\n",
       "    .dataframe tbody tr th {\n",
       "        vertical-align: top;\n",
       "    }\n",
       "\n",
       "    .dataframe thead th {\n",
       "        text-align: right;\n",
       "    }\n",
       "</style>\n",
       "<table border=\"1\" class=\"dataframe\">\n",
       "  <thead>\n",
       "    <tr style=\"text-align: right;\">\n",
       "      <th></th>\n",
       "      <th>Partner</th>\n",
       "      <th>Number of Dependents</th>\n",
       "      <th>Tenure in Months</th>\n",
       "      <th>Phone Service</th>\n",
       "      <th>Online Security</th>\n",
       "      <th>Premium Tech Support</th>\n",
       "      <th>Monthly Charge</th>\n",
       "      <th>Senior Citizen</th>\n",
       "      <th>Churn</th>\n",
       "    </tr>\n",
       "  </thead>\n",
       "  <tbody>\n",
       "    <tr>\n",
       "      <th>2429</th>\n",
       "      <td>1</td>\n",
       "      <td>3</td>\n",
       "      <td>8</td>\n",
       "      <td>1</td>\n",
       "      <td>0</td>\n",
       "      <td>0</td>\n",
       "      <td>94.75</td>\n",
       "      <td>0</td>\n",
       "      <td>0</td>\n",
       "    </tr>\n",
       "    <tr>\n",
       "      <th>282</th>\n",
       "      <td>1</td>\n",
       "      <td>1</td>\n",
       "      <td>1</td>\n",
       "      <td>1</td>\n",
       "      <td>0</td>\n",
       "      <td>0</td>\n",
       "      <td>74.60</td>\n",
       "      <td>0</td>\n",
       "      <td>0</td>\n",
       "    </tr>\n",
       "    <tr>\n",
       "      <th>1327</th>\n",
       "      <td>1</td>\n",
       "      <td>1</td>\n",
       "      <td>72</td>\n",
       "      <td>1</td>\n",
       "      <td>0</td>\n",
       "      <td>0</td>\n",
       "      <td>20.30</td>\n",
       "      <td>0</td>\n",
       "      <td>0</td>\n",
       "    </tr>\n",
       "    <tr>\n",
       "      <th>2191</th>\n",
       "      <td>0</td>\n",
       "      <td>0</td>\n",
       "      <td>30</td>\n",
       "      <td>1</td>\n",
       "      <td>0</td>\n",
       "      <td>1</td>\n",
       "      <td>85.15</td>\n",
       "      <td>0</td>\n",
       "      <td>1</td>\n",
       "    </tr>\n",
       "    <tr>\n",
       "      <th>1538</th>\n",
       "      <td>1</td>\n",
       "      <td>0</td>\n",
       "      <td>66</td>\n",
       "      <td>1</td>\n",
       "      <td>0</td>\n",
       "      <td>1</td>\n",
       "      <td>63.85</td>\n",
       "      <td>0</td>\n",
       "      <td>0</td>\n",
       "    </tr>\n",
       "  </tbody>\n",
       "</table>\n",
       "</div>"
      ],
      "text/plain": [
       "      Partner  Number of Dependents  Tenure in Months  Phone Service  \\\n",
       "2429        1                     3                 8              1   \n",
       "282         1                     1                 1              1   \n",
       "1327        1                     1                72              1   \n",
       "2191        0                     0                30              1   \n",
       "1538        1                     0                66              1   \n",
       "\n",
       "      Online Security  Premium Tech Support  Monthly Charge  Senior Citizen  \\\n",
       "2429                0                     0           94.75               0   \n",
       "282                 0                     0           74.60               0   \n",
       "1327                0                     0           20.30               0   \n",
       "2191                0                     1           85.15               0   \n",
       "1538                0                     1           63.85               0   \n",
       "\n",
       "      Churn  \n",
       "2429      0  \n",
       "282       0  \n",
       "1327      0  \n",
       "2191      1  \n",
       "1538      0  "
      ]
     },
     "execution_count": 42,
     "metadata": {},
     "output_type": "execute_result"
    }
   ],
   "source": [
    "dataset3=dataset3[[\"Partner\",\"Number of Dependents\",\"Tenure in Months\",\"Phone Service\",\"Online Security\",\"Premium Tech Support\",\"Monthly Charge\",\"Senior Citizen\",\"Churn\"]]\n",
    "dataset3.sample(5)"
   ]
  },
  {
   "cell_type": "code",
   "execution_count": 43,
   "id": "906dd695",
   "metadata": {},
   "outputs": [],
   "source": [
    "dataset3[\"Partner\"]=np.where(dataset3[\"Partner\"]==0,'No','Yes')\n",
    "dataset3[\"Dependents\"]=np.where(dataset3[\"Number of Dependents\"]>0,'Yes','No')\n",
    "dataset3[\"Phone Service\"]=np.where(dataset3[\"Phone Service\"]==0,'No','Yes')\n",
    "dataset3[\"Online Security\"]=np.where(dataset3[\"Online Security\"]==0,'No','Yes')\n",
    "dataset3[\"Premium Tech Support\"]=np.where(dataset3[\"Premium Tech Support\"]==0,'No','Yes')\n",
    "dataset3[\"Senior Citizen\"]=np.where(dataset3[\"Senior Citizen\"]==0,'No','Yes')\n",
    "dataset3[\"Churn\"]=np.where(dataset3[\"Churn\"]==0,'No','Yes')\n",
    "dataset3=dataset3[[\"Partner\",\"Dependents\",\"Tenure in Months\",\"Phone Service\",\"Online Security\",\"Premium Tech Support\",\"Monthly Charge\",\"Senior Citizen\",\"Churn\"]]\n"
   ]
  },
  {
   "cell_type": "code",
   "execution_count": 46,
   "id": "d02491c7",
   "metadata": {},
   "outputs": [
    {
     "data": {
      "text/html": [
       "<div>\n",
       "<style scoped>\n",
       "    .dataframe tbody tr th:only-of-type {\n",
       "        vertical-align: middle;\n",
       "    }\n",
       "\n",
       "    .dataframe tbody tr th {\n",
       "        vertical-align: top;\n",
       "    }\n",
       "\n",
       "    .dataframe thead th {\n",
       "        text-align: right;\n",
       "    }\n",
       "</style>\n",
       "<table border=\"1\" class=\"dataframe\">\n",
       "  <thead>\n",
       "    <tr style=\"text-align: right;\">\n",
       "      <th></th>\n",
       "      <th>Partner</th>\n",
       "      <th>Dependents</th>\n",
       "      <th>Tenure in Months</th>\n",
       "      <th>Phone Service</th>\n",
       "      <th>Online Security</th>\n",
       "      <th>Premium Tech Support</th>\n",
       "      <th>Monthly Charge</th>\n",
       "      <th>Senior Citizen</th>\n",
       "      <th>Churn</th>\n",
       "    </tr>\n",
       "  </thead>\n",
       "  <tbody>\n",
       "    <tr>\n",
       "      <th>3729</th>\n",
       "      <td>No</td>\n",
       "      <td>Yes</td>\n",
       "      <td>55</td>\n",
       "      <td>Yes</td>\n",
       "      <td>No</td>\n",
       "      <td>No</td>\n",
       "      <td>19.10</td>\n",
       "      <td>No</td>\n",
       "      <td>No</td>\n",
       "    </tr>\n",
       "    <tr>\n",
       "      <th>576</th>\n",
       "      <td>Yes</td>\n",
       "      <td>Yes</td>\n",
       "      <td>72</td>\n",
       "      <td>Yes</td>\n",
       "      <td>Yes</td>\n",
       "      <td>Yes</td>\n",
       "      <td>114.00</td>\n",
       "      <td>No</td>\n",
       "      <td>No</td>\n",
       "    </tr>\n",
       "    <tr>\n",
       "      <th>1925</th>\n",
       "      <td>No</td>\n",
       "      <td>No</td>\n",
       "      <td>22</td>\n",
       "      <td>Yes</td>\n",
       "      <td>No</td>\n",
       "      <td>No</td>\n",
       "      <td>25.25</td>\n",
       "      <td>No</td>\n",
       "      <td>No</td>\n",
       "    </tr>\n",
       "    <tr>\n",
       "      <th>1735</th>\n",
       "      <td>Yes</td>\n",
       "      <td>No</td>\n",
       "      <td>72</td>\n",
       "      <td>Yes</td>\n",
       "      <td>No</td>\n",
       "      <td>No</td>\n",
       "      <td>75.40</td>\n",
       "      <td>No</td>\n",
       "      <td>No</td>\n",
       "    </tr>\n",
       "    <tr>\n",
       "      <th>231</th>\n",
       "      <td>No</td>\n",
       "      <td>Yes</td>\n",
       "      <td>17</td>\n",
       "      <td>Yes</td>\n",
       "      <td>Yes</td>\n",
       "      <td>No</td>\n",
       "      <td>50.30</td>\n",
       "      <td>No</td>\n",
       "      <td>No</td>\n",
       "    </tr>\n",
       "  </tbody>\n",
       "</table>\n",
       "</div>"
      ],
      "text/plain": [
       "     Partner Dependents  Tenure in Months Phone Service Online Security  \\\n",
       "3729      No        Yes                55           Yes              No   \n",
       "576      Yes        Yes                72           Yes             Yes   \n",
       "1925      No         No                22           Yes              No   \n",
       "1735     Yes         No                72           Yes              No   \n",
       "231       No        Yes                17           Yes             Yes   \n",
       "\n",
       "     Premium Tech Support  Monthly Charge Senior Citizen Churn  \n",
       "3729                   No           19.10             No    No  \n",
       "576                   Yes          114.00             No    No  \n",
       "1925                   No           25.25             No    No  \n",
       "1735                   No           75.40             No    No  \n",
       "231                    No           50.30             No    No  "
      ]
     },
     "execution_count": 46,
     "metadata": {},
     "output_type": "execute_result"
    }
   ],
   "source": [
    "dataset3.sample(5)"
   ]
  },
  {
   "cell_type": "code",
   "execution_count": 49,
   "id": "8740e52f",
   "metadata": {},
   "outputs": [
    {
     "data": {
      "text/plain": [
       "[]"
      ]
     },
     "execution_count": 49,
     "metadata": {},
     "output_type": "execute_result"
    }
   ],
   "source": [
    "cursor.execute(\"\"\"\n",
    "Select * from customers\n",
    "\"\"\")\n",
    "cursor.fetchall()"
   ]
  },
  {
   "cell_type": "markdown",
   "id": "b180d3b6",
   "metadata": {},
   "source": [
    "We now need to insert the datasets into a central table in the database."
   ]
  },
  {
   "cell_type": "code",
   "execution_count": 56,
   "id": "57734254",
   "metadata": {},
   "outputs": [
    {
     "data": {
      "text/plain": [
       "15259"
      ]
     },
     "execution_count": 56,
     "metadata": {},
     "output_type": "execute_result"
    }
   ],
   "source": [
    "combined = pd.concat([dataset1, dataset2, dataset3], ignore_index=True)\n",
    "combined.to_sql(\"customers\", conn, if_exists=\"replace\", index=False)"
   ]
  }
 ],
 "metadata": {
  "kernelspec": {
   "display_name": "Python 3",
   "language": "python",
   "name": "python3"
  },
  "language_info": {
   "codemirror_mode": {
    "name": "ipython",
    "version": 3
   },
   "file_extension": ".py",
   "mimetype": "text/x-python",
   "name": "python",
   "nbconvert_exporter": "python",
   "pygments_lexer": "ipython3",
   "version": "3.11.5"
  }
 },
 "nbformat": 4,
 "nbformat_minor": 5
}
