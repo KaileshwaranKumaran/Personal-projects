{
 "cells": [
  {
   "cell_type": "markdown",
   "id": "701a27a9",
   "metadata": {},
   "source": [
    "I am going to be prioritising churn datasets which are associated with the telecom industry in this project.\n",
    "The initial step for this project is to set up our database and a table inside that database, from which we are going to be using data from, for our model.\n",
    "However, for this the most important factors need to be identified in relation to churn."
   ]
  },
  {
   "cell_type": "markdown",
   "id": "d09c464d",
   "metadata": {},
   "source": [
    "While scanning different datasets, the most important factors or rather the factors which are likely to impact churn outcome was determined to be relationship status,dependents,tenure,phone service,online security,tech support,Monthly charges and age"
   ]
  },
  {
   "cell_type": "code",
   "execution_count": 130,
   "id": "3ab9b6f8",
   "metadata": {},
   "outputs": [],
   "source": [
    "import pandas as pd\n",
    "import sqlite3\n",
    "import numpy as np\n",
    "\n",
    "\n",
    "\n"
   ]
  },
  {
   "cell_type": "markdown",
   "id": "71be7b88",
   "metadata": {},
   "source": [
    "The process is to ETL(Extract-read the datasets,Transform-Convert to an appropriate format,Load- upload to a centralized sqlite database) the 3 different sources into a predefined sqlite table."
   ]
  },
  {
   "cell_type": "code",
   "execution_count": 26,
   "id": "7465e4cd",
   "metadata": {},
   "outputs": [],
   "source": [
    "dataset1=pd.read_csv(r\"C:\\Users\\kaile\\Project2 files\\Telco_customer_churn.csv\\Telco_customer_churn.csv\")\n",
    "dataset2=pd.read_csv(r\"C:\\Users\\kaile\\Project2 files\\telecom_customer_churn.csv\\telecom_customer_churn.csv\")\n",
    "dataset3=pd.read_csv(r\"C:\\Users\\kaile\\Project2 files\\train.csv\")\n"
   ]
  },
  {
   "cell_type": "markdown",
   "id": "5451c926",
   "metadata": {},
   "source": [
    "Dataset 1"
   ]
  },
  {
   "cell_type": "code",
   "execution_count": 27,
   "id": "7462fc46",
   "metadata": {},
   "outputs": [
    {
     "data": {
      "text/plain": [
       "Index(['CustomerID', 'Count', 'Country', 'State', 'City', 'Zip Code',\n",
       "       'Lat Long', 'Latitude', 'Longitude', 'Gender', 'Senior Citizen',\n",
       "       'Partner', 'Dependents', 'Tenure Months', 'Phone Service',\n",
       "       'Multiple Lines', 'Internet Service', 'Online Security',\n",
       "       'Online Backup', 'Device Protection', 'Tech Support', 'Streaming TV',\n",
       "       'Streaming Movies', 'Contract', 'Paperless Billing', 'Payment Method',\n",
       "       'Monthly Charges', 'Total Charges', 'Churn Label', 'Churn Value',\n",
       "       'Churn Score', 'CLTV', 'Churn Reason'],\n",
       "      dtype='object')"
      ]
     },
     "execution_count": 27,
     "metadata": {},
     "output_type": "execute_result"
    }
   ],
   "source": [
    "dataset1.head(5)\n",
    "dataset1.columns"
   ]
  },
  {
   "cell_type": "code",
   "execution_count": 28,
   "id": "671aa670",
   "metadata": {},
   "outputs": [],
   "source": [
    "dataset1=dataset1[['Partner','Dependents',\"Tenure Months\",\"Phone Service\",\"Online Security\",\"Tech Support\",\"Monthly Charges\",\"Senior Citizen\",\"Churn Label\"]]"
   ]
  },
  {
   "cell_type": "code",
   "execution_count": 5,
   "id": "926466ba",
   "metadata": {},
   "outputs": [],
   "source": [
    "conn = sqlite3.connect(\"customer_churn.db\")\n",
    "cursor=conn.cursor()"
   ]
  },
  {
   "cell_type": "code",
   "execution_count": 19,
   "id": "70adba77",
   "metadata": {},
   "outputs": [
    {
     "data": {
      "text/plain": [
       "<sqlite3.Cursor at 0x1bdd86fdac0>"
      ]
     },
     "execution_count": 19,
     "metadata": {},
     "output_type": "execute_result"
    }
   ],
   "source": [
    "cursor.execute(\"\"\"\n",
    "CREATE TABLE IF NOT EXISTS customers (\n",
    "    Partner TEXT,\n",
    "    Dependents TEXT,\n",
    "    Tenure_Months INTEGER,\n",
    "    Phone_Service TEXT,\n",
    "    Online_Security TEXT,\n",
    "    Tech_Support TEXT,\n",
    "    Monthly_Charges REAL,\n",
    "    Senior_Citizen TEXT,\n",
    "    Churn TEXT\n",
    ")\n",
    "\"\"\")\n"
   ]
  },
  {
   "cell_type": "markdown",
   "id": "d53dee83",
   "metadata": {},
   "source": [
    "EDA\n"
   ]
  },
  {
   "cell_type": "markdown",
   "id": "c1d57abd",
   "metadata": {},
   "source": [
    "The purpose of this EDA is to transform the datasets into suitable formats for upload. We will not look at the quality of the datasets here."
   ]
  },
  {
   "cell_type": "code",
   "execution_count": 35,
   "id": "7093ca58",
   "metadata": {},
   "outputs": [],
   "source": [
    "dataset1 = dataset1[dataset1[\"Online Security\"].isin(['Yes', 'No']) &\n",
    "                   dataset1[\"Tech Support\"].isin(['Yes', 'No'])]\n"
   ]
  },
  {
   "cell_type": "code",
   "execution_count": 90,
   "id": "fc73a713",
   "metadata": {},
   "outputs": [
    {
     "data": {
      "text/plain": [
       "Index(['Customer ID', 'Gender', 'Age', 'Married', 'Number of Dependents',\n",
       "       'City', 'Zip Code', 'Latitude', 'Longitude', 'Number of Referrals',\n",
       "       'Tenure in Months', 'Offer', 'Phone Service',\n",
       "       'Avg Monthly Long Distance Charges', 'Multiple Lines',\n",
       "       'Internet Service', 'Internet Type', 'Avg Monthly GB Download',\n",
       "       'Online Security', 'Online Backup', 'Device Protection Plan',\n",
       "       'Premium Tech Support', 'Streaming TV', 'Streaming Movies',\n",
       "       'Streaming Music', 'Unlimited Data', 'Contract', 'Paperless Billing',\n",
       "       'Payment Method', 'Monthly Charge', 'Total Charges', 'Total Refunds',\n",
       "       'Total Extra Data Charges', 'Total Long Distance Charges',\n",
       "       'Total Revenue', 'Customer Status', 'Churn Category', 'Churn Reason'],\n",
       "      dtype='object')"
      ]
     },
     "execution_count": 90,
     "metadata": {},
     "output_type": "execute_result"
    }
   ],
   "source": [
    "dataset2.columns"
   ]
  },
  {
   "cell_type": "code",
   "execution_count": 91,
   "id": "f550f659",
   "metadata": {},
   "outputs": [],
   "source": [
    "dataset2=dataset2[['Married',\"Number of Dependents\",\"Tenure in Months\",\"Phone Service\",\"Online Security\",\"Premium Tech Support\",\"Monthly Charge\",\"Age\",\"Churn Category\"]]"
   ]
  },
  {
   "cell_type": "code",
   "execution_count": 129,
   "id": "ad33fb8c",
   "metadata": {},
   "outputs": [
    {
     "data": {
      "text/html": [
       "<div>\n",
       "<style scoped>\n",
       "    .dataframe tbody tr th:only-of-type {\n",
       "        vertical-align: middle;\n",
       "    }\n",
       "\n",
       "    .dataframe tbody tr th {\n",
       "        vertical-align: top;\n",
       "    }\n",
       "\n",
       "    .dataframe thead th {\n",
       "        text-align: right;\n",
       "    }\n",
       "</style>\n",
       "<table border=\"1\" class=\"dataframe\">\n",
       "  <thead>\n",
       "    <tr style=\"text-align: right;\">\n",
       "      <th></th>\n",
       "      <th>Married</th>\n",
       "      <th>Number of Dependents</th>\n",
       "      <th>Tenure in Months</th>\n",
       "      <th>Phone Service</th>\n",
       "      <th>Online Security</th>\n",
       "      <th>Premium Tech Support</th>\n",
       "      <th>Monthly Charge</th>\n",
       "      <th>Age</th>\n",
       "      <th>Churn Category</th>\n",
       "    </tr>\n",
       "  </thead>\n",
       "  <tbody>\n",
       "    <tr>\n",
       "      <th>4797</th>\n",
       "      <td>No</td>\n",
       "      <td>0</td>\n",
       "      <td>30</td>\n",
       "      <td>Yes</td>\n",
       "      <td>Yes</td>\n",
       "      <td>No</td>\n",
       "      <td>90.50</td>\n",
       "      <td>69</td>\n",
       "      <td>NaN</td>\n",
       "    </tr>\n",
       "    <tr>\n",
       "      <th>6975</th>\n",
       "      <td>Yes</td>\n",
       "      <td>0</td>\n",
       "      <td>3</td>\n",
       "      <td>Yes</td>\n",
       "      <td>No</td>\n",
       "      <td>No</td>\n",
       "      <td>80.30</td>\n",
       "      <td>37</td>\n",
       "      <td>Competitor</td>\n",
       "    </tr>\n",
       "    <tr>\n",
       "      <th>1595</th>\n",
       "      <td>Yes</td>\n",
       "      <td>0</td>\n",
       "      <td>67</td>\n",
       "      <td>Yes</td>\n",
       "      <td>Yes</td>\n",
       "      <td>Yes</td>\n",
       "      <td>111.05</td>\n",
       "      <td>51</td>\n",
       "      <td>NaN</td>\n",
       "    </tr>\n",
       "    <tr>\n",
       "      <th>2317</th>\n",
       "      <td>No</td>\n",
       "      <td>0</td>\n",
       "      <td>5</td>\n",
       "      <td>No</td>\n",
       "      <td>No</td>\n",
       "      <td>No</td>\n",
       "      <td>45.70</td>\n",
       "      <td>79</td>\n",
       "      <td>Competitor</td>\n",
       "    </tr>\n",
       "    <tr>\n",
       "      <th>5949</th>\n",
       "      <td>No</td>\n",
       "      <td>0</td>\n",
       "      <td>8</td>\n",
       "      <td>Yes</td>\n",
       "      <td>NaN</td>\n",
       "      <td>NaN</td>\n",
       "      <td>20.25</td>\n",
       "      <td>41</td>\n",
       "      <td>NaN</td>\n",
       "    </tr>\n",
       "  </tbody>\n",
       "</table>\n",
       "</div>"
      ],
      "text/plain": [
       "     Married  Number of Dependents  Tenure in Months Phone Service  \\\n",
       "4797      No                     0                30           Yes   \n",
       "6975     Yes                     0                 3           Yes   \n",
       "1595     Yes                     0                67           Yes   \n",
       "2317      No                     0                 5            No   \n",
       "5949      No                     0                 8           Yes   \n",
       "\n",
       "     Online Security Premium Tech Support  Monthly Charge  Age Churn Category  \n",
       "4797             Yes                   No           90.50   69            NaN  \n",
       "6975              No                   No           80.30   37     Competitor  \n",
       "1595             Yes                  Yes          111.05   51            NaN  \n",
       "2317              No                   No           45.70   79     Competitor  \n",
       "5949             NaN                  NaN           20.25   41            NaN  "
      ]
     },
     "execution_count": 129,
     "metadata": {},
     "output_type": "execute_result"
    }
   ],
   "source": [
    "dataset2.sample(5)"
   ]
  },
  {
   "cell_type": "code",
   "execution_count": 131,
   "id": "7365a876",
   "metadata": {},
   "outputs": [],
   "source": [
    "dataset2 = dataset2[dataset2[\"Online Security\"].isin(['Yes', 'No']) &\n",
    "                   dataset2[\"Premium Tech Support\"].isin(['Yes', 'No'])]\n",
    "\n"
   ]
  },
  {
   "cell_type": "code",
   "execution_count": 134,
   "id": "a10efd2e",
   "metadata": {},
   "outputs": [],
   "source": [
    "dataset2[\"Senior Citizen\"]=np.where(dataset2['Age']>65,'Yes','No')\n",
    "dataset2[\"Churn\"]=np.where(dataset2[\"Churn Category\"].isna(),'No','Yes')\n",
    "dataset2[\"Dependents\"]=np.where(dataset2[\"Number of Dependents\"]>0,'Yes','No')"
   ]
  },
  {
   "cell_type": "code",
   "execution_count": 143,
   "id": "a5571066",
   "metadata": {},
   "outputs": [
    {
     "data": {
      "text/html": [
       "<div>\n",
       "<style scoped>\n",
       "    .dataframe tbody tr th:only-of-type {\n",
       "        vertical-align: middle;\n",
       "    }\n",
       "\n",
       "    .dataframe tbody tr th {\n",
       "        vertical-align: top;\n",
       "    }\n",
       "\n",
       "    .dataframe thead th {\n",
       "        text-align: right;\n",
       "    }\n",
       "</style>\n",
       "<table border=\"1\" class=\"dataframe\">\n",
       "  <thead>\n",
       "    <tr style=\"text-align: right;\">\n",
       "      <th></th>\n",
       "      <th>Married</th>\n",
       "      <th>Dependents</th>\n",
       "      <th>Tenure in Months</th>\n",
       "      <th>Phone Service</th>\n",
       "      <th>Online Security</th>\n",
       "      <th>Premium Tech Support</th>\n",
       "      <th>Monthly Charge</th>\n",
       "      <th>Senior Citizen</th>\n",
       "      <th>Churn</th>\n",
       "    </tr>\n",
       "  </thead>\n",
       "  <tbody>\n",
       "    <tr>\n",
       "      <th>1573</th>\n",
       "      <td>Yes</td>\n",
       "      <td>Yes</td>\n",
       "      <td>40</td>\n",
       "      <td>No</td>\n",
       "      <td>No</td>\n",
       "      <td>Yes</td>\n",
       "      <td>60.30</td>\n",
       "      <td>No</td>\n",
       "      <td>No</td>\n",
       "    </tr>\n",
       "    <tr>\n",
       "      <th>2546</th>\n",
       "      <td>No</td>\n",
       "      <td>No</td>\n",
       "      <td>61</td>\n",
       "      <td>Yes</td>\n",
       "      <td>Yes</td>\n",
       "      <td>Yes</td>\n",
       "      <td>115.10</td>\n",
       "      <td>No</td>\n",
       "      <td>No</td>\n",
       "    </tr>\n",
       "    <tr>\n",
       "      <th>2712</th>\n",
       "      <td>Yes</td>\n",
       "      <td>No</td>\n",
       "      <td>12</td>\n",
       "      <td>Yes</td>\n",
       "      <td>No</td>\n",
       "      <td>No</td>\n",
       "      <td>53.65</td>\n",
       "      <td>No</td>\n",
       "      <td>Yes</td>\n",
       "    </tr>\n",
       "    <tr>\n",
       "      <th>6523</th>\n",
       "      <td>Yes</td>\n",
       "      <td>No</td>\n",
       "      <td>17</td>\n",
       "      <td>Yes</td>\n",
       "      <td>No</td>\n",
       "      <td>Yes</td>\n",
       "      <td>98.60</td>\n",
       "      <td>No</td>\n",
       "      <td>Yes</td>\n",
       "    </tr>\n",
       "    <tr>\n",
       "      <th>4239</th>\n",
       "      <td>Yes</td>\n",
       "      <td>No</td>\n",
       "      <td>40</td>\n",
       "      <td>Yes</td>\n",
       "      <td>No</td>\n",
       "      <td>No</td>\n",
       "      <td>97.10</td>\n",
       "      <td>No</td>\n",
       "      <td>Yes</td>\n",
       "    </tr>\n",
       "  </tbody>\n",
       "</table>\n",
       "</div>"
      ],
      "text/plain": [
       "     Married Dependents  Tenure in Months Phone Service Online Security  \\\n",
       "1573     Yes        Yes                40            No              No   \n",
       "2546      No         No                61           Yes             Yes   \n",
       "2712     Yes         No                12           Yes              No   \n",
       "6523     Yes         No                17           Yes              No   \n",
       "4239     Yes         No                40           Yes              No   \n",
       "\n",
       "     Premium Tech Support  Monthly Charge Senior Citizen Churn  \n",
       "1573                  Yes           60.30             No    No  \n",
       "2546                  Yes          115.10             No    No  \n",
       "2712                   No           53.65             No   Yes  \n",
       "6523                  Yes           98.60             No   Yes  \n",
       "4239                   No           97.10             No   Yes  "
      ]
     },
     "execution_count": 143,
     "metadata": {},
     "output_type": "execute_result"
    }
   ],
   "source": [
    "dataset2=dataset2[['Married',\"Dependents\",\"Tenure in Months\",\"Phone Service\",\"Online Security\",\"Premium Tech Support\",\"Monthly Charge\",\"Senior Citizen\",\"Churn\"]]\n",
    "dataset2.sample(5)"
   ]
  }
 ],
 "metadata": {
  "kernelspec": {
   "display_name": "base",
   "language": "python",
   "name": "python3"
  },
  "language_info": {
   "codemirror_mode": {
    "name": "ipython",
    "version": 3
   },
   "file_extension": ".py",
   "mimetype": "text/x-python",
   "name": "python",
   "nbconvert_exporter": "python",
   "pygments_lexer": "ipython3",
   "version": "3.12.7"
  }
 },
 "nbformat": 4,
 "nbformat_minor": 5
}
