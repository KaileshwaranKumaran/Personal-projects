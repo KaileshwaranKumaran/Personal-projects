{
 "cells": [
  {
   "cell_type": "markdown",
   "id": "701a27a9",
   "metadata": {},
   "source": [
    "I am going to be prioritising churn datasets which are associated with the telecom industry in this project.\n",
    "The initial step for this project is to set up our database and a table inside that database, from which we are going to be using data from, for our model.\n",
    "However, for this the most important factors need to be identified in relation to churn."
   ]
  },
  {
   "cell_type": "markdown",
   "id": "d09c464d",
   "metadata": {},
   "source": [
    "While scanning different datasets, the most important factors or rather the factors which are likely to impact churn outcome was determined to be marriage status,dependents,tenure,phone service,online security,tech support,Monthly charges and age"
   ]
  },
  {
   "cell_type": "code",
   "execution_count": null,
   "id": "06bf947e",
   "metadata": {},
   "outputs": [],
   "source": []
  }
 ],
 "metadata": {
  "kernelspec": {
   "display_name": "base",
   "language": "python",
   "name": "python3"
  },
  "language_info": {
   "codemirror_mode": {
    "name": "ipython",
    "version": 3
   },
   "file_extension": ".py",
   "mimetype": "text/x-python",
   "name": "python",
   "nbconvert_exporter": "python",
   "pygments_lexer": "ipython3",
   "version": "3.12.7"
  }
 },
 "nbformat": 4,
 "nbformat_minor": 5
}
