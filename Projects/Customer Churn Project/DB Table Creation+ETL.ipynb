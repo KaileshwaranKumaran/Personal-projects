{
 "cells": [
  {
   "cell_type": "markdown",
   "id": "701a27a9",
   "metadata": {},
   "source": [
    "I am going to be prioritising churn datasets which are associated with the telecom industry in this project.\n",
    "The initial step for this project is to set up our database and a table inside that database, from which we are going to be using data from, for our model.\n",
    "However, for this the most important factors need to be identified in relation to churn."
   ]
  },
  {
   "cell_type": "markdown",
   "id": "d09c464d",
   "metadata": {},
   "source": [
    "While scanning different datasets, the most important factors or rather the factors which are likely to impact churn outcome was determined to be relationship status,dependents,tenure,phone service,online security,tech support,Monthly charges and age"
   ]
  },
  {
   "cell_type": "code",
   "execution_count": 1,
   "id": "3ab9b6f8",
   "metadata": {},
   "outputs": [],
   "source": [
    "import pandas as pd\n",
    "import sqlite3\n",
    "\n",
    "\n",
    "\n"
   ]
  },
  {
   "cell_type": "markdown",
   "id": "71be7b88",
   "metadata": {},
   "source": [
    "The process is to ETL(Extract-read the datasets,Transform-Convert to an appropriate format,Load- upload to a centralized sqlite database) the 3 different sources into a predefined sqlite table."
   ]
  },
  {
   "cell_type": "code",
   "execution_count": 2,
   "id": "7465e4cd",
   "metadata": {},
   "outputs": [],
   "source": [
    "dataset1=pd.read_csv(r\"C:\\Users\\kaile\\Project2 files\\Telco_customer_churn.csv\\Telco_customer_churn.csv\")\n",
    "dataset2=pd.read_csv(r\"C:\\Users\\kaile\\Project2 files\\telecom_customer_churn.csv\\telecom_customer_churn.csv\")\n",
    "dataset3=pd.read_csv(r\"C:\\Users\\kaile\\Project2 files\\train.csv\")\n"
   ]
  },
  {
   "cell_type": "markdown",
   "id": "5451c926",
   "metadata": {},
   "source": [
    "Dataset 1"
   ]
  },
  {
   "cell_type": "code",
   "execution_count": 3,
   "id": "7462fc46",
   "metadata": {},
   "outputs": [
    {
     "data": {
      "text/plain": [
       "Index(['CustomerID', 'Count', 'Country', 'State', 'City', 'Zip Code',\n",
       "       'Lat Long', 'Latitude', 'Longitude', 'Gender', 'Senior Citizen',\n",
       "       'Partner', 'Dependents', 'Tenure Months', 'Phone Service',\n",
       "       'Multiple Lines', 'Internet Service', 'Online Security',\n",
       "       'Online Backup', 'Device Protection', 'Tech Support', 'Streaming TV',\n",
       "       'Streaming Movies', 'Contract', 'Paperless Billing', 'Payment Method',\n",
       "       'Monthly Charges', 'Total Charges', 'Churn Label', 'Churn Value',\n",
       "       'Churn Score', 'CLTV', 'Churn Reason'],\n",
       "      dtype='object')"
      ]
     },
     "execution_count": 3,
     "metadata": {},
     "output_type": "execute_result"
    }
   ],
   "source": [
    "dataset1.head(5)\n",
    "dataset1.columns"
   ]
  },
  {
   "cell_type": "code",
   "execution_count": 4,
   "id": "671aa670",
   "metadata": {},
   "outputs": [],
   "source": [
    "dataset1=dataset1[['Partner','Dependents',\"Tenure Months\",\"Phone Service\",\"Online Security\",\"Tech Support\",\"Monthly Charges\",\"Senior Citizen\"]]"
   ]
  },
  {
   "cell_type": "code",
   "execution_count": 5,
   "id": "926466ba",
   "metadata": {},
   "outputs": [],
   "source": [
    "conn = sqlite3.connect(\"customer_churn.db\")\n",
    "cursor=conn.cursor()"
   ]
  },
  {
   "cell_type": "code",
   "execution_count": 19,
   "id": "70adba77",
   "metadata": {},
   "outputs": [
    {
     "data": {
      "text/plain": [
       "<sqlite3.Cursor at 0x1bdd86fdac0>"
      ]
     },
     "execution_count": 19,
     "metadata": {},
     "output_type": "execute_result"
    }
   ],
   "source": [
    "cursor.execute(\"\"\"\n",
    "CREATE TABLE IF NOT EXISTS customers (\n",
    "    Partner TEXT,\n",
    "    Dependents TEXT,\n",
    "    Tenure_Months INTEGER,\n",
    "    Phone_Service TEXT,\n",
    "    Online_Security TEXT,\n",
    "    Tech_Support TEXT,\n",
    "    Monthly_Charges REAL,\n",
    "    Senior_Citizen TEXT,\n",
    "    Churn TEXT\n",
    ")\n",
    "\"\"\")\n"
   ]
  }
 ],
 "metadata": {
  "kernelspec": {
   "display_name": "base",
   "language": "python",
   "name": "python3"
  },
  "language_info": {
   "codemirror_mode": {
    "name": "ipython",
    "version": 3
   },
   "file_extension": ".py",
   "mimetype": "text/x-python",
   "name": "python",
   "nbconvert_exporter": "python",
   "pygments_lexer": "ipython3",
   "version": "3.12.7"
  }
 },
 "nbformat": 4,
 "nbformat_minor": 5
}
